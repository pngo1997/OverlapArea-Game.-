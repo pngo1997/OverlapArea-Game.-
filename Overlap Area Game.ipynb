{
 "cells": [
  {
   "cell_type": "code",
   "execution_count": 68,
   "id": "c61dd55e-16d6-48ac-ba1f-b3b93c106aeb",
   "metadata": {},
   "outputs": [
    {
     "name": "stdout",
     "output_type": "stream",
     "text": [
      "Requirement already satisfied: ipynb in c:\\users\\maimu\\anaconda3\\lib\\site-packages (0.5.1)\n"
     ]
    }
   ],
   "source": [
    "!pip install ipynb\n",
    "from ipynb.fs.defs.RandomNumbersGenerator import WarAndPeacePseudoRandomNumberGenerator\n",
    "import random\n",
    "import math"
   ]
  },
  {
   "cell_type": "code",
   "execution_count": 78,
   "id": "c49f848a-fd1f-4fec-b7f7-4fb9dbf0ebb0",
   "metadata": {},
   "outputs": [],
   "source": [
    "class Point():\n",
    "    '''Point class takes x and y coordinates of a point.'''\n",
    "    \n",
    "    def __init__ (self, x=0, y=0):\n",
    "    #Initialization for Point class.\n",
    "        self.x = x\n",
    "        self.y = y\n",
    "        \n",
    "    def getX(self):\n",
    "    #Return x coordinate.\n",
    "        return self.x\n",
    "    \n",
    "    def getY(self):\n",
    "    #Return y coordinate\n",
    "        return self.y\n",
    "    \n",
    "    def getPoint(self):\n",
    "    #Return x and y coordinates of the point.  \n",
    "        return (self.x, self.y)\n",
    "           \n",
    "    \n",
    "    def getDistance(self, rand_point):\n",
    "    #Returns the distance of any given 2 points. \n",
    "        xDiff = rand_point.getX() - self.getX()\n",
    "        yDiff = rand_point.getY() - self.getY()\n",
    "        \n",
    "        return math.sqrt(xDiff**2 + yDiff**2)\n",
    "    \n",
    "    def __repr__ (self):\n",
    "    #Print x and y coordinate of given point.\n",
    "        return (f'''Point({self.x} ,{self.y})''')"
   ]
  },
  {
   "cell_type": "code",
   "execution_count": 79,
   "id": "5ed548f5-11fd-427c-a2a4-409c00414ba8",
   "metadata": {},
   "outputs": [],
   "source": [
    "class Ellipse():\n",
    "    '''Ellipse class takes two point and the width of long axis.'''\n",
    "    \n",
    "    def __init__ (self, p1, p2, width=0):\n",
    "    #Initialization for Ellipse class.\n",
    "        self.p1 = Point(p1.x, p1.y)\n",
    "        self.p2 = Point(p2.x, p2.y)\n",
    "        #Calling Point class for each focal point of the ellipse.\n",
    "        \n",
    "        self.width = width\n",
    "        self.a = self.width / 2\n",
    "        \n",
    "        self.c = self.p1.getDistance(self.p2) / 2 \n",
    "        #Calculate the center of two focal points.\n",
    "        self.b = math.sqrt(self.a**2 - self.c**2)\n",
    "        #Calculate minor and major diameter of the ellipse for area.\n",
    "    \n",
    "    def getP1(self):\n",
    "    #Return point 1.\n",
    "        return self.p1\n",
    "    \n",
    "    def getP2(self):\n",
    "    #Return point 2.\n",
    "        return self.p2\n",
    "    \n",
    "    def getWidth(self):\n",
    "    #Return larger width.\n",
    "        return self.width\n",
    "    \n",
    "    def isInside(self, rand_point):\n",
    "    #Check if a given point is inside the ellipse.\n",
    "        if self.p1.getDistance(rand_point) + self.p2.getDistance(rand_point) <= self.width:\n",
    "            return True\n",
    "        else: return False \n",
    "    \n",
    "    def getArea(self):\n",
    "    #Return TRUE area of an ellipse.\n",
    "        return math.pi * self.a * self.b\n",
    "    \n",
    "    def __repr__(self):\n",
    "    #Print point 1, point 2 and width of the ellipse.\n",
    "        return (f'''Ellipse(Point{self.p1} ,Point{self.p2}, {self.width})''')"
   ]
  },
  {
   "cell_type": "code",
   "execution_count": 71,
   "id": "239af744-abad-447d-bf00-413b1e06e45f",
   "metadata": {},
   "outputs": [],
   "source": [
    "def computeOverlapOfEllipses(e1, e2):\n",
    "    '''Computer the overlap area of two ellipses.'''\n",
    "    \n",
    "    area, xScale, yScale,l, b = frameArea(e1,e2)\n",
    "    #Return area, and scales element for to compute overlap.\n",
    "    \n",
    "    counter = 0 \n",
    "    counter1 = 0\n",
    "    counter2 = 0\n",
    "    #Counter for overlap, ellipse 1 and 2\n",
    "    number = 10000 \n",
    "    #10,000 points\n",
    "    \n",
    "    prng = WarAndPeacePseudoRandomNumberGenerator()\n",
    "    #Calling War and Peace PRNG\n",
    "    \n",
    "    for i in range(10000):\n",
    "        \n",
    "        x_rand = prng.random()\n",
    "        y_rand = prng.random() \n",
    "        \n",
    "        x = x_rand * xScale + l\n",
    "        y = y_rand * yScale + b\n",
    "        # Scale x and y values to fit in the frame.\n",
    "        #Logic: Point will be between [0,1). Thus, multiply by corresponding range + minimum value.\n",
    "       \n",
    "        rand_point = Point(x, y)\n",
    "        #Generate each random point\n",
    "        \n",
    "        if pointCheck(rand_point, e1, e2) == True:\n",
    "        #If random point falls within the overlap.\n",
    "            counter += 1\n",
    "        if e1.isInside(rand_point) == True:\n",
    "        #If random point falls within ellipse 1\n",
    "            counter1 += 1\n",
    "        if e2.isInside(rand_point) == True:\n",
    "        #If random point falls within ellipse 2\n",
    "            counter2 += 1\n",
    "        \n",
    "    ratio = counter / number\n",
    "    sim_area1 = (counter1 / number) * area\n",
    "    sim_area2 = (counter2 / number) * area\n",
    "    overlap = ratio * area\n",
    "    #Area of each ellipse and the overlap based on random point counters.\n",
    "    \n",
    "    return overlap, number, counter, counter1, counter2, sim_area1, sim_area2"
   ]
  },
  {
   "cell_type": "code",
   "execution_count": 72,
   "id": "08523d01-ac00-45d6-9064-81e8b18735d4",
   "metadata": {},
   "outputs": [],
   "source": [
    "def frameArea(e1,e2):\n",
    "    '''Compute the frame area that covers two ellipses.'''\n",
    "    \n",
    "    chosen_width = chosenWidth(e1, e2)\n",
    "    #Return from chosenWidth def.\n",
    "    \n",
    "    xList = []\n",
    "    yList = []\n",
    "    #Generate empty list for each x and y value.\n",
    "    \n",
    "    for point in [e1.getP1(), e1.getP2(), e2.getP1(), e2.getP2()]:\n",
    "    #Iterate through each focal point. Should be four.\n",
    "        x = point.getX()\n",
    "        y = point.getY()\n",
    "        xList.append(x)\n",
    "        yList.append(y)\n",
    "        #Append x and y values to corresponding list.\n",
    "    \n",
    "    l = min(xList) - chosen_width/2\n",
    "    #Left value: smallest x value - width/2\n",
    "    r = max(xList) + chosen_width/2\n",
    "    #Right value: largest x value + width/2\n",
    "    \n",
    "    t = max(yList) + chosen_width/2\n",
    "    #Top value: largest y value + width/2\n",
    "    b = min(yList) - chosen_width/2\n",
    "    #Bottom value: smallest y value - width/2\n",
    "    \n",
    "    xScale = r-l   \n",
    "    yScale = t-b\n",
    "    #Calculate vertical and horizontal ranges of the frame.\n",
    "                 \n",
    "    A = Point(l, b)  # PointA: left_bottom\n",
    "    B = Point(r, b)  # PointB: right_bottom\n",
    "    C = Point(l, t)  # PointC: left_top\n",
    "    D = Point(r, t)  # PointD: right_top\n",
    "    \n",
    "    lengthFrame = A.getDistance(B)\n",
    "    widthFrame = A.getDistance(C)\n",
    "    #Calling Point class to calculate distance. \n",
    "    \n",
    "    area = lengthFrame * widthFrame\n",
    "    \n",
    "    return area, xScale, yScale, l, b"
   ]
  },
  {
   "cell_type": "code",
   "execution_count": 73,
   "id": "7e1218d3-f48d-4afe-8fe3-fa24a1ddbe43",
   "metadata": {},
   "outputs": [],
   "source": [
    "def chosenWidth(e1,e2):\n",
    "    '''Return larger width between two ellipses.'''\n",
    "    #get larger width to ensure frame covers both ellipses. \n",
    "    \n",
    "    e1Width = e1.getWidth()\n",
    "    e2Width = e2.getWidth()\n",
    "    \n",
    "    if e1Width > e2Width:\n",
    "        chosenWidth = e1Width\n",
    "    else:\n",
    "        chosenWidth = e2Width\n",
    "    \n",
    "    return chosenWidth   "
   ]
  },
  {
   "cell_type": "code",
   "execution_count": 74,
   "id": "64d01827-b3c6-4ec9-976d-30275faeb96d",
   "metadata": {},
   "outputs": [],
   "source": [
    "def pointCheck(rand_point, e1, e2):\n",
    "    '''Check if random point is within the overlap area.'''\n",
    "    \n",
    "    if e1.isInside(rand_point) == True and e2.isInside(rand_point) == True:\n",
    "        return True\n",
    "    else: False"
   ]
  },
  {
   "cell_type": "code",
   "execution_count": 75,
   "id": "5ca0b4f1-5cae-4b8d-a0bc-e517644b390d",
   "metadata": {},
   "outputs": [],
   "source": [
    "def main():\n",
    "    '''Main function calling def computeOverlapOfEllipses(e1, e2).'''\n",
    "    \n",
    "    x1, y1 = eval(input(\"Ellipse 1, focal point 1: \"))\n",
    "    x2, y2 = eval(input(\"Ellipse 1, focal point 2: \"))\n",
    "    w1 = eval(input(\"Ellipse 1, width: \"))\n",
    "    x3, y3 = eval(input(\"Ellipse 2, focal point 1: \"))\n",
    "    x4, y4 = eval(input(\"Ellipse 2, focal point 2: \"))\n",
    "    w2 = eval(input(\"Ellipse 2, width: \"))\n",
    "    \n",
    "    #Ask input for each ellipse focal points and width. \n",
    "    \n",
    "    p1 = Point(x1, y1)\n",
    "    p2 = Point(x2, y2)\n",
    "    e1 = Ellipse1(p1, p2, w1) \n",
    "    #Generate ellipse 1\n",
    "\n",
    "    p3 = Point(x3, y3)\n",
    "    p4 = Point(x4, y4)\n",
    "    e2 = Ellipse2(p3, p4, w2) \n",
    "    #Generate ellipse 2\n",
    "\n",
    "    e1_area = e1.getArea()\n",
    "    e2_area = e2.getArea()\n",
    "    #Get TRUE area of each ellipse\n",
    "\n",
    "    overlap, number, counter, counter1, counter2, sim_area1, sim_area2 = computeOverlapOfEllipses(e1, e2)\n",
    "    \n",
    "    print(\"\\n\")\n",
    "    print(f\"Ellipse1 {e1.__repr__()} has area {counter1}/{number} = {sim_area1}\")\n",
    "    print(f\"Ellipse1 true area value = {e1_area}\")\n",
    "    print(f\"Ellipse2 {e2.__repr__()} has area {counter2}/{number} = {sim_area2}\")\n",
    "    print(f\"Ellipse2 true area value = {e2_area}\")\n",
    "    print(f'{counter} out of {number} generated points are in both ellipses.')\n",
    "    print(f'''The overlap of the two has area {overlap}.''')\n",
    "    \n",
    "    #Print requested result."
   ]
  },
  {
   "cell_type": "markdown",
   "id": "bffb6d6f-cc38-4b6f-90e8-9153e3baeafa",
   "metadata": {},
   "source": [
    "#### I use seed = 1000, step = 100 following the video."
   ]
  },
  {
   "cell_type": "markdown",
   "id": "1d42b230-8e0f-4ffc-a344-cba9e7bb537c",
   "metadata": {},
   "source": [
    "##### Test1: Two circles are at the origins. "
   ]
  },
  {
   "cell_type": "code",
   "execution_count": 76,
   "id": "32b7880c-7cbd-45aa-8866-0350f2a159bb",
   "metadata": {},
   "outputs": [
    {
     "name": "stdin",
     "output_type": "stream",
     "text": [
      "Ellipse 1, focal point 1:  0,0\n",
      "Ellipse 1, focal point 2:  0,0\n",
      "Ellipse 1, width:  2\n",
      "Ellipse 2, focal point 1:  0,0\n",
      "Ellipse 2, focal point 2:  0,0\n",
      "Ellipse 2, width:  4\n"
     ]
    },
    {
     "name": "stdout",
     "output_type": "stream",
     "text": [
      "\n",
      "\n",
      "Ellipse1 Ellipse(PointPoint(0 ,0) ,PointPoint(0 ,0), 2) has area 1989/10000 = 3.1824\n",
      "Ellipse1 true area value = 3.141592653589793\n",
      "Ellipse2 Ellipse(PointPoint(0 ,0) ,PointPoint(0 ,0), 4) has area 7958/10000 = 12.7328\n",
      "Ellipse2 true area value = 12.566370614359172\n",
      "1989 out of 10000 generated points are in both ellipses.\n",
      "The overlap of the two has area 3.1824.\n"
     ]
    }
   ],
   "source": [
    "main()"
   ]
  },
  {
   "cell_type": "markdown",
   "id": "41e56f67-2d4e-437c-b377-2f07c550f1d4",
   "metadata": {},
   "source": [
    "##### Verification of Test1: \n",
    "Looks reasonable. Not much different from actual area. The overlap area doea equal to area of the smaller ellipse e1."
   ]
  },
  {
   "cell_type": "markdown",
   "id": "813ff0ab-b1e9-4d34-94d4-70dcbc8432f3",
   "metadata": {},
   "source": [
    "##### Test2: More complicated example."
   ]
  },
  {
   "cell_type": "code",
   "execution_count": 15,
   "id": "05ec80c4-71a6-4771-b347-72ffa5e5499f",
   "metadata": {},
   "outputs": [
    {
     "name": "stdin",
     "output_type": "stream",
     "text": [
      "Ellipse 1, focal point 1:  0,0\n",
      "Ellipse 1, focal point 2:  0,-3\n",
      "Ellipse 1, width:  5\n",
      "Ellipse 2, focal point 1:  -1,10\n",
      "Ellipse 2, focal point 2:  2,10\n",
      "Ellipse 2, width:  6\n"
     ]
    },
    {
     "name": "stdout",
     "output_type": "stream",
     "text": [
      "\n",
      "\n",
      "Ellipse1 Ellipse(PointPoint(0 ,0) ,PointPoint(0 ,-3), 5) has area 972/10000 = 16.621199999999998\n",
      "Ellipse1 true area value = 15.707963267948966\n",
      "Ellipse2 Ellipse(PointPoint(-1 ,10) ,PointPoint(2 ,10), 6) has area 1451/10000 = 24.8121\n",
      "Ellipse2 true area value = 24.48629141716194\n",
      "0 out of 10000 generated points are in both ellipses.\n",
      "The overlap of the two has area 0.0.\n"
     ]
    }
   ],
   "source": [
    "main()"
   ]
  },
  {
   "cell_type": "markdown",
   "id": "b6d94f61-41fc-456b-834e-858361b98ccf",
   "metadata": {},
   "source": [
    "##### Verification of Test2: \n",
    "Looks reasonable. Not much different from actual area. Two ellipses are not overlapped. "
   ]
  },
  {
   "cell_type": "markdown",
   "id": "3d6b76be-3a96-43c0-ba77-b99eaddf2b30",
   "metadata": {},
   "source": [
    "##### Test3: More complicated example."
   ]
  },
  {
   "cell_type": "code",
   "execution_count": 77,
   "id": "5e66196a-3a5d-4ae6-9360-57a8d614f947",
   "metadata": {},
   "outputs": [
    {
     "name": "stdin",
     "output_type": "stream",
     "text": [
      "Ellipse 1, focal point 1:  2,3\n",
      "Ellipse 1, focal point 2:  4,3\n",
      "Ellipse 1, width:  5\n",
      "Ellipse 2, focal point 1:  5,3\n",
      "Ellipse 2, focal point 2:  5,5\n",
      "Ellipse 2, width:  6\n"
     ]
    },
    {
     "name": "stdout",
     "output_type": "stream",
     "text": [
      "\n",
      "\n",
      "Ellipse1 Ellipse(PointPoint(2 ,3) ,PointPoint(4 ,3), 5) has area 2574/10000 = 18.5328\n",
      "Ellipse1 true area value = 17.99573267224051\n",
      "Ellipse2 Ellipse(PointPoint(5 ,3) ,PointPoint(5 ,5), 6) has area 3809/10000 = 27.4248\n",
      "Ellipse2 true area value = 26.657297628950197\n",
      "1487 out of 10000 generated points are in both ellipses.\n",
      "The overlap of the two has area 10.7064.\n"
     ]
    }
   ],
   "source": [
    "main()"
   ]
  },
  {
   "cell_type": "markdown",
   "id": "f7cc2e86-e8b0-4a2a-8f0e-e8b5e03381d6",
   "metadata": {},
   "source": [
    "##### Verification of Test3: \n",
    "Looks reasonable. Not much different from actual area. Two ellipses are overlapped. \n",
    "I notice when two width are closer, most likely overlap."
   ]
  },
  {
   "cell_type": "markdown",
   "id": "5d7779f3-595f-45d2-b172-f8d8709cf6aa",
   "metadata": {},
   "source": [
    "##### Test4: More complicated example."
   ]
  },
  {
   "cell_type": "code",
   "execution_count": 22,
   "id": "b269a579-1ffa-47f5-9b67-9115038f8a93",
   "metadata": {},
   "outputs": [
    {
     "name": "stdin",
     "output_type": "stream",
     "text": [
      "Ellipse 1, focal point 1:  2,5\n",
      "Ellipse 1, focal point 2:  6,5\n",
      "Ellipse 1, width:  8\n",
      "Ellipse 2, focal point 1:  4,4\n",
      "Ellipse 2, focal point 2:  4,7\n",
      "Ellipse 2, width:  5\n"
     ]
    },
    {
     "name": "stdout",
     "output_type": "stream",
     "text": [
      "\n",
      "\n",
      "Ellipse1 Ellipse(PointPoint(2 ,5) ,PointPoint(6 ,5), 8) has area 3366/10000 = 44.431200000000004\n",
      "Ellipse1 true area value = 43.531184741621225\n",
      "Ellipse2 Ellipse(PointPoint(4 ,4) ,PointPoint(4 ,7), 5) has area 1219/10000 = 16.090799999999998\n",
      "Ellipse2 true area value = 15.707963267948966\n",
      "1219 out of 10000 generated points are in both ellipses.\n",
      "The overlap of the two has area 16.090799999999998.\n"
     ]
    }
   ],
   "source": [
    "main()"
   ]
  },
  {
   "cell_type": "markdown",
   "id": "6c230925-6348-4b23-85ca-98d05dd4cab2",
   "metadata": {},
   "source": [
    "##### Verification of Test4: \n",
    "Looks reasonable. Not much different from actual area. Ellipse 2 is within ellipse 1. \n",
    "Thus, the overlap is area of ellipse 2."
   ]
  },
  {
   "cell_type": "markdown",
   "id": "d85b5459-8eca-420a-afee-a01078d5ba98",
   "metadata": {},
   "source": [
    "##### Test5: More complicated example."
   ]
  },
  {
   "cell_type": "code",
   "execution_count": 60,
   "id": "c5fb94d6-d492-41e8-b089-571e34bcf59a",
   "metadata": {},
   "outputs": [
    {
     "name": "stdin",
     "output_type": "stream",
     "text": [
      "Ellipse 1, focal point 1:  4,7\n",
      "Ellipse 1, focal point 2:  4,4\n",
      "Ellipse 1, width:  5\n",
      "Ellipse 2, focal point 1:  2,5\n",
      "Ellipse 2, focal point 2:  6,5\n",
      "Ellipse 2, width:  6\n"
     ]
    },
    {
     "name": "stdout",
     "output_type": "stream",
     "text": [
      "\n",
      "\n",
      "Ellipse1 Ellipse(PointPoint(4 ,7) ,PointPoint(4 ,4), 5) has area 1767/10000 = 15.903\n",
      "Ellipse1 true area value = 15.707963267948966\n",
      "Ellipse2 Ellipse(PointPoint(2 ,5) ,PointPoint(6 ,5), 6) has area 2366/10000 = 21.294\n",
      "Ellipse2 true area value = 21.07444419312218\n",
      "1548 out of 10000 generated points are in both ellipses.\n",
      "The overlap of the two has area 13.931999999999999.\n"
     ]
    }
   ],
   "source": [
    "main()"
   ]
  },
  {
   "cell_type": "markdown",
   "id": "09b25b8a-9fc1-470e-b942-a306ebe72400",
   "metadata": {},
   "source": [
    "##### Verification of Test5: \n",
    "Looks reasonable. Not much different from actual area. Two ellipses are overlapped. "
   ]
  }
 ],
 "metadata": {
  "kernelspec": {
   "display_name": "Python 3 (ipykernel)",
   "language": "python",
   "name": "python3"
  },
  "language_info": {
   "codemirror_mode": {
    "name": "ipython",
    "version": 3
   },
   "file_extension": ".py",
   "mimetype": "text/x-python",
   "name": "python",
   "nbconvert_exporter": "python",
   "pygments_lexer": "ipython3",
   "version": "3.9.13"
  }
 },
 "nbformat": 4,
 "nbformat_minor": 5
}
